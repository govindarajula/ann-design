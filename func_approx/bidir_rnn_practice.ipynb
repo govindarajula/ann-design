{
 "cells": [
  {
   "cell_type": "code",
   "execution_count": 1,
   "metadata": {},
   "outputs": [
    {
     "name": "stdout",
     "output_type": "stream",
     "text": [
      "WARNING:tensorflow:From <ipython-input-1-02f6518a87fd>:9: read_data_sets (from tensorflow.contrib.learn.python.learn.datasets.mnist) is deprecated and will be removed in a future version.\n",
      "Instructions for updating:\n",
      "Please use alternatives such as official/mnist/dataset.py from tensorflow/models.\n",
      "WARNING:tensorflow:From c:\\users\\akash\\appdata\\local\\programs\\python\\python35\\lib\\site-packages\\tensorflow\\contrib\\learn\\python\\learn\\datasets\\mnist.py:260: maybe_download (from tensorflow.contrib.learn.python.learn.datasets.base) is deprecated and will be removed in a future version.\n",
      "Instructions for updating:\n",
      "Please write your own downloading logic.\n",
      "WARNING:tensorflow:From c:\\users\\akash\\appdata\\local\\programs\\python\\python35\\lib\\site-packages\\tensorflow\\contrib\\learn\\python\\learn\\datasets\\mnist.py:262: extract_images (from tensorflow.contrib.learn.python.learn.datasets.mnist) is deprecated and will be removed in a future version.\n",
      "Instructions for updating:\n",
      "Please use tf.data to implement this functionality.\n",
      "Extracting /tmp/data/train-images-idx3-ubyte.gz\n",
      "WARNING:tensorflow:From c:\\users\\akash\\appdata\\local\\programs\\python\\python35\\lib\\site-packages\\tensorflow\\contrib\\learn\\python\\learn\\datasets\\mnist.py:267: extract_labels (from tensorflow.contrib.learn.python.learn.datasets.mnist) is deprecated and will be removed in a future version.\n",
      "Instructions for updating:\n",
      "Please use tf.data to implement this functionality.\n",
      "Extracting /tmp/data/train-labels-idx1-ubyte.gz\n",
      "WARNING:tensorflow:From c:\\users\\akash\\appdata\\local\\programs\\python\\python35\\lib\\site-packages\\tensorflow\\contrib\\learn\\python\\learn\\datasets\\mnist.py:110: dense_to_one_hot (from tensorflow.contrib.learn.python.learn.datasets.mnist) is deprecated and will be removed in a future version.\n",
      "Instructions for updating:\n",
      "Please use tf.one_hot on tensors.\n",
      "Extracting /tmp/data/t10k-images-idx3-ubyte.gz\n",
      "Extracting /tmp/data/t10k-labels-idx1-ubyte.gz\n",
      "WARNING:tensorflow:From c:\\users\\akash\\appdata\\local\\programs\\python\\python35\\lib\\site-packages\\tensorflow\\contrib\\learn\\python\\learn\\datasets\\mnist.py:290: DataSet.__init__ (from tensorflow.contrib.learn.python.learn.datasets.mnist) is deprecated and will be removed in a future version.\n",
      "Instructions for updating:\n",
      "Please use alternatives such as official/mnist/dataset.py from tensorflow/models.\n"
     ]
    }
   ],
   "source": [
    "from __future__ import print_function\n",
    "\n",
    "import tensorflow as tf\n",
    "from tensorflow.contrib import rnn\n",
    "import numpy as np\n",
    "\n",
    "# Import MNIST data\n",
    "from tensorflow.examples.tutorials.mnist import input_data\n",
    "mnist = input_data.read_data_sets(\"/tmp/data/\", one_hot=True)"
   ]
  },
  {
   "cell_type": "code",
   "execution_count": 2,
   "metadata": {},
   "outputs": [],
   "source": [
    "# Training Parameters\n",
    "learning_rate = 0.001\n",
    "training_steps = 10000\n",
    "batch_size = 128\n",
    "display_step = 200\n",
    "\n",
    "# Network Parameters\n",
    "num_input = 28 # MNIST data input (img shape: 28*28)\n",
    "timesteps = 28 # timesteps\n",
    "num_hidden = 128 # hidden layer num of features\n",
    "num_classes = 10 # MNIST total classes (0-9 digits)\n",
    "\n",
    "# tf Graph input\n",
    "X = tf.placeholder(\"float\", [None, timesteps, num_input])\n",
    "Y = tf.placeholder(\"float\", [None, num_classes])"
   ]
  },
  {
   "cell_type": "code",
   "execution_count": 3,
   "metadata": {},
   "outputs": [],
   "source": [
    "# Define weights\n",
    "weights = {\n",
    "    # Hidden layer weights => 2*n_hidden because of forward + backward cells\n",
    "    'out': tf.Variable(tf.random_normal([2*num_hidden, num_classes]))\n",
    "}\n",
    "biases = {\n",
    "    'out': tf.Variable(tf.random_normal([num_classes]))\n",
    "}"
   ]
  },
  {
   "cell_type": "code",
   "execution_count": 4,
   "metadata": {},
   "outputs": [],
   "source": [
    "def BiRNN(x, weights, biases):\n",
    "\n",
    "    # Prepare data shape to match `rnn` function requirements\n",
    "    # Current data input shape: (batch_size, timesteps, n_input)\n",
    "    # Required shape: 'timesteps' tensors list of shape (batch_size, num_input)\n",
    "\n",
    "    # Unstack to get a list of 'timesteps' tensors of shape (batch_size, num_input)\n",
    "    x = tf.unstack(x, timesteps, 1)\n",
    "\n",
    "    # Define lstm cells with tensorflow\n",
    "    # Forward direction cell\n",
    "    lstm_fw_cell = rnn.BasicLSTMCell(num_hidden, forget_bias=1.0)\n",
    "    # Backward direction cell\n",
    "    lstm_bw_cell = rnn.BasicLSTMCell(num_hidden, forget_bias=1.0)\n",
    "\n",
    "    # Get lstm cell output\n",
    "    try:\n",
    "        outputs, _, _ = rnn.static_bidirectional_rnn(lstm_fw_cell, lstm_bw_cell, x,\n",
    "                                              dtype=tf.float32)\n",
    "    except Exception: # Old TensorFlow version only returns outputs not states\n",
    "        outputs = rnn.static_bidirectional_rnn(lstm_fw_cell, lstm_bw_cell, x,\n",
    "                                        dtype=tf.float32)\n",
    "\n",
    "    # Linear activation, using rnn inner loop last output\n",
    "    return tf.matmul(outputs[-1], weights['out']) + biases['out']"
   ]
  },
  {
   "cell_type": "code",
   "execution_count": 5,
   "metadata": {},
   "outputs": [
    {
     "name": "stdout",
     "output_type": "stream",
     "text": [
      "WARNING:tensorflow:From <ipython-input-5-d6d6107040d4>:6: softmax_cross_entropy_with_logits (from tensorflow.python.ops.nn_ops) is deprecated and will be removed in a future version.\n",
      "Instructions for updating:\n",
      "\n",
      "Future major versions of TensorFlow will allow gradients to flow\n",
      "into the labels input on backprop by default.\n",
      "\n",
      "See @{tf.nn.softmax_cross_entropy_with_logits_v2}.\n",
      "\n"
     ]
    }
   ],
   "source": [
    "logits = BiRNN(X, weights, biases)\n",
    "prediction = tf.nn.softmax(logits)\n",
    "\n",
    "# Define loss and optimizer\n",
    "loss_op = tf.reduce_mean(tf.nn.softmax_cross_entropy_with_logits(\n",
    "    logits=logits, labels=Y))\n",
    "optimizer = tf.train.GradientDescentOptimizer(learning_rate=learning_rate)\n",
    "train_op = optimizer.minimize(loss_op)\n",
    "\n",
    "# Evaluate model (with test logits, for dropout to be disabled)\n",
    "correct_pred = tf.equal(tf.argmax(prediction, 1), tf.argmax(Y, 1))\n",
    "accuracy = tf.reduce_mean(tf.cast(correct_pred, tf.float32))\n",
    "\n",
    "# Initialize the variables (i.e. assign their default value)\n",
    "init = tf.global_variables_initializer()"
   ]
  },
  {
   "cell_type": "code",
   "execution_count": 6,
   "metadata": {},
   "outputs": [
    {
     "name": "stdout",
     "output_type": "stream",
     "text": [
      "Step 1, Minibatch Loss= 2.4735, Training Accuracy= 0.125\n",
      "Step 200, Minibatch Loss= 2.0765, Training Accuracy= 0.336\n",
      "Step 400, Minibatch Loss= 1.8690, Training Accuracy= 0.430\n",
      "Step 600, Minibatch Loss= 1.7978, Training Accuracy= 0.406\n",
      "Step 800, Minibatch Loss= 1.7738, Training Accuracy= 0.461\n",
      "Step 1000, Minibatch Loss= 1.5559, Training Accuracy= 0.531\n",
      "Step 1200, Minibatch Loss= 1.5488, Training Accuracy= 0.508\n",
      "Step 1400, Minibatch Loss= 1.4525, Training Accuracy= 0.594\n",
      "Step 1600, Minibatch Loss= 1.5703, Training Accuracy= 0.539\n",
      "Step 1800, Minibatch Loss= 1.3809, Training Accuracy= 0.570\n",
      "Step 2000, Minibatch Loss= 1.2898, Training Accuracy= 0.578\n",
      "Step 2200, Minibatch Loss= 1.1594, Training Accuracy= 0.648\n",
      "Step 2400, Minibatch Loss= 1.1922, Training Accuracy= 0.609\n",
      "Step 2600, Minibatch Loss= 1.0823, Training Accuracy= 0.664\n",
      "Step 2800, Minibatch Loss= 1.1121, Training Accuracy= 0.703\n",
      "Step 3000, Minibatch Loss= 1.2042, Training Accuracy= 0.656\n",
      "Step 3200, Minibatch Loss= 1.0426, Training Accuracy= 0.656\n",
      "Step 3400, Minibatch Loss= 1.0390, Training Accuracy= 0.641\n",
      "Step 3600, Minibatch Loss= 0.8900, Training Accuracy= 0.742\n",
      "Step 3800, Minibatch Loss= 0.8979, Training Accuracy= 0.711\n",
      "Step 4000, Minibatch Loss= 1.0574, Training Accuracy= 0.680\n",
      "Step 4200, Minibatch Loss= 0.9026, Training Accuracy= 0.742\n",
      "Step 4400, Minibatch Loss= 0.8092, Training Accuracy= 0.758\n",
      "Step 4600, Minibatch Loss= 0.7934, Training Accuracy= 0.711\n",
      "Step 4800, Minibatch Loss= 0.7703, Training Accuracy= 0.766\n",
      "Step 5000, Minibatch Loss= 0.8046, Training Accuracy= 0.719\n",
      "Step 5200, Minibatch Loss= 0.6642, Training Accuracy= 0.828\n",
      "Step 5400, Minibatch Loss= 0.7222, Training Accuracy= 0.750\n",
      "Step 5600, Minibatch Loss= 0.7738, Training Accuracy= 0.734\n",
      "Step 5800, Minibatch Loss= 0.7376, Training Accuracy= 0.773\n",
      "Step 6000, Minibatch Loss= 0.7400, Training Accuracy= 0.742\n",
      "Step 6200, Minibatch Loss= 0.6791, Training Accuracy= 0.789\n",
      "Step 6400, Minibatch Loss= 0.6578, Training Accuracy= 0.766\n",
      "Step 6600, Minibatch Loss= 0.6498, Training Accuracy= 0.789\n",
      "Step 6800, Minibatch Loss= 0.7214, Training Accuracy= 0.781\n",
      "Step 7000, Minibatch Loss= 0.6371, Training Accuracy= 0.812\n",
      "Step 7200, Minibatch Loss= 0.5940, Training Accuracy= 0.797\n",
      "Step 7400, Minibatch Loss= 0.6109, Training Accuracy= 0.781\n",
      "Step 7600, Minibatch Loss= 0.4987, Training Accuracy= 0.859\n",
      "Step 7800, Minibatch Loss= 0.6163, Training Accuracy= 0.797\n",
      "Step 8000, Minibatch Loss= 0.5228, Training Accuracy= 0.844\n",
      "Step 8200, Minibatch Loss= 0.6255, Training Accuracy= 0.805\n",
      "Step 8400, Minibatch Loss= 0.5627, Training Accuracy= 0.828\n",
      "Step 8600, Minibatch Loss= 0.5033, Training Accuracy= 0.852\n",
      "Step 8800, Minibatch Loss= 0.5318, Training Accuracy= 0.875\n",
      "Step 9000, Minibatch Loss= 0.4385, Training Accuracy= 0.859\n",
      "Step 9200, Minibatch Loss= 0.4811, Training Accuracy= 0.805\n",
      "Step 9400, Minibatch Loss= 0.5175, Training Accuracy= 0.867\n",
      "Step 9600, Minibatch Loss= 0.4270, Training Accuracy= 0.867\n",
      "Step 9800, Minibatch Loss= 0.5068, Training Accuracy= 0.836\n",
      "Step 10000, Minibatch Loss= 0.4806, Training Accuracy= 0.836\n",
      "Optimization Finished!\n",
      "Testing Accuracy: 0.875\n"
     ]
    }
   ],
   "source": [
    "# Start training\n",
    "with tf.Session() as sess:\n",
    "\n",
    "    # Run the initializer\n",
    "    sess.run(init)\n",
    "\n",
    "    for step in range(1, training_steps+1):\n",
    "        batch_x, batch_y = mnist.train.next_batch(batch_size)\n",
    "        # Reshape data to get 28 seq of 28 elements\n",
    "        batch_x = batch_x.reshape((batch_size, timesteps, num_input))\n",
    "        # Run optimization op (backprop)\n",
    "        sess.run(train_op, feed_dict={X: batch_x, Y: batch_y})\n",
    "        if step % display_step == 0 or step == 1:\n",
    "            # Calculate batch loss and accuracy\n",
    "            loss, acc = sess.run([loss_op, accuracy], feed_dict={X: batch_x,\n",
    "                                                                 Y: batch_y})\n",
    "            print(\"Step \" + str(step) + \", Minibatch Loss= \" + \\\n",
    "                  \"{:.4f}\".format(loss) + \", Training Accuracy= \" + \\\n",
    "                  \"{:.3f}\".format(acc))\n",
    "\n",
    "    print(\"Optimization Finished!\")\n",
    "\n",
    "    # Calculate accuracy for 128 mnist test images\n",
    "    test_len = 128\n",
    "    test_data = mnist.test.images[:test_len].reshape((-1, timesteps, num_input))\n",
    "    test_label = mnist.test.labels[:test_len]\n",
    "    print(\"Testing Accuracy:\", \\\n",
    "        sess.run(accuracy, feed_dict={X: test_data, Y: test_label}))"
   ]
  },
  {
   "cell_type": "code",
   "execution_count": null,
   "metadata": {},
   "outputs": [],
   "source": []
  }
 ],
 "metadata": {
  "kernelspec": {
   "display_name": "Python 3",
   "language": "python",
   "name": "python3"
  },
  "language_info": {
   "codemirror_mode": {
    "name": "ipython",
    "version": 3
   },
   "file_extension": ".py",
   "mimetype": "text/x-python",
   "name": "python",
   "nbconvert_exporter": "python",
   "pygments_lexer": "ipython3",
   "version": "3.5.2"
  }
 },
 "nbformat": 4,
 "nbformat_minor": 2
}
